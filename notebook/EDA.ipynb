{
 "cells": [
  {
   "cell_type": "markdown",
   "metadata": {},
   "source": [
    "# Cement Strenght Prediction:\n",
    "\n",
    "**Cement (component 1)** (kg in a m^3 mixture): The amount of cement, measured in kilograms, present in one cubic meter of the concrete mixture. Cement is a binding material responsible for providing strength and durability to concrete.\n",
    "\n",
    "**Blast Furnace Slag (component 2) (kg in a m^3 mixture)**: The quantity of blast furnace slag, measured in kilograms, included in one cubic meter of the concrete mixture. Blast furnace slag is a byproduct of the iron and steel industry and is commonly used as a supplementary cementitious material in concrete production.\n",
    "\n",
    "Fly Ash (component 3) (kg in a m^3 mixture): The amount of fly ash, measured in kilograms, added to one cubic meter of the concrete mixture. Fly ash is a waste product from coal combustion and is often used as a partial replacement for cement in concrete to enhance its properties.\n",
    "\n",
    "Water (component 4) (kg in a m^3 mixture): The volume of water, measured in kilograms, incorporated in one cubic meter of the concrete mixture. Water is required for the hydration process of cement and is crucial for the hardening of concrete.\n",
    "\n",
    "Superplasticizer (component 5) (kg in a m^3 mixture): The quantity of superplasticizer, measured in kilograms, utilized in one cubic meter of the concrete mixture. Superplasticizers are chemical admixtures that are added to concrete to enhance its workability and flow without compromising its strength.\n",
    "\n",
    "Coarse Aggregate (component 6) (kg in a m^3 mixture): The weight of coarse aggregate, measured in kilograms, present in one cubic meter of the concrete mixture. Coarse aggregate consists of larger particles such as crushed stone, gravel, or recycled concrete, and provides strength and stability to the concrete.\n",
    "\n",
    "Fine Aggregate (component 7) (kg in a m^3 mixture): The amount of fine aggregate, measured in kilograms, included in one cubic meter of the concrete mixture. Fine aggregate typically consists of sand and is responsible for filling the gaps between coarse aggregates, contributing to the overall strength and workability of concrete.\n",
    "\n",
    "Age (day): The age of the concrete specimen, measured in days, at which the compressive strength is determined. Concrete gains strength over time as the hydration process progresses, so the age of the concrete is an important factor in assessing its compressive strength.\n",
    "\n",
    "Concrete compressive strength (MPa, megapascals): The compressive strength of the concrete specimen, measured in megapascals (MPa). Compressive strength is a fundamental property of concrete that indicates its ability to withstand loads or pressure without breaking."
   ]
  },
  {
   "cell_type": "markdown",
   "metadata": {},
   "source": [
    "## Read Data in Dataframe"
   ]
  },
  {
   "cell_type": "code",
   "execution_count": 1,
   "metadata": {},
   "outputs": [
    {
     "data": {
      "text/html": [
       "<div>\n",
       "<style scoped>\n",
       "    .dataframe tbody tr th:only-of-type {\n",
       "        vertical-align: middle;\n",
       "    }\n",
       "\n",
       "    .dataframe tbody tr th {\n",
       "        vertical-align: top;\n",
       "    }\n",
       "\n",
       "    .dataframe thead th {\n",
       "        text-align: right;\n",
       "    }\n",
       "</style>\n",
       "<table border=\"1\" class=\"dataframe\">\n",
       "  <thead>\n",
       "    <tr style=\"text-align: right;\">\n",
       "      <th></th>\n",
       "      <th>Cement (component 1)(kg in a m^3 mixture)</th>\n",
       "      <th>Blast Furnace Slag (component 2)(kg in a m^3 mixture)</th>\n",
       "      <th>Fly Ash (component 3)(kg in a m^3 mixture)</th>\n",
       "      <th>Water  (component 4)(kg in a m^3 mixture)</th>\n",
       "      <th>Superplasticizer (component 5)(kg in a m^3 mixture)</th>\n",
       "      <th>Coarse Aggregate  (component 6)(kg in a m^3 mixture)</th>\n",
       "      <th>Fine Aggregate (component 7)(kg in a m^3 mixture)</th>\n",
       "      <th>Age (day)</th>\n",
       "      <th>Concrete compressive strength(MPa, megapascals)</th>\n",
       "    </tr>\n",
       "  </thead>\n",
       "  <tbody>\n",
       "    <tr>\n",
       "      <th>0</th>\n",
       "      <td>540.0</td>\n",
       "      <td>0.0</td>\n",
       "      <td>0.0</td>\n",
       "      <td>162.0</td>\n",
       "      <td>2.5</td>\n",
       "      <td>1040.0</td>\n",
       "      <td>676.0</td>\n",
       "      <td>28</td>\n",
       "      <td>79.986111</td>\n",
       "    </tr>\n",
       "    <tr>\n",
       "      <th>1</th>\n",
       "      <td>540.0</td>\n",
       "      <td>0.0</td>\n",
       "      <td>0.0</td>\n",
       "      <td>162.0</td>\n",
       "      <td>2.5</td>\n",
       "      <td>1055.0</td>\n",
       "      <td>676.0</td>\n",
       "      <td>28</td>\n",
       "      <td>61.887366</td>\n",
       "    </tr>\n",
       "    <tr>\n",
       "      <th>2</th>\n",
       "      <td>332.5</td>\n",
       "      <td>142.5</td>\n",
       "      <td>0.0</td>\n",
       "      <td>228.0</td>\n",
       "      <td>0.0</td>\n",
       "      <td>932.0</td>\n",
       "      <td>594.0</td>\n",
       "      <td>270</td>\n",
       "      <td>40.269535</td>\n",
       "    </tr>\n",
       "    <tr>\n",
       "      <th>3</th>\n",
       "      <td>332.5</td>\n",
       "      <td>142.5</td>\n",
       "      <td>0.0</td>\n",
       "      <td>228.0</td>\n",
       "      <td>0.0</td>\n",
       "      <td>932.0</td>\n",
       "      <td>594.0</td>\n",
       "      <td>365</td>\n",
       "      <td>41.052780</td>\n",
       "    </tr>\n",
       "    <tr>\n",
       "      <th>4</th>\n",
       "      <td>198.6</td>\n",
       "      <td>132.4</td>\n",
       "      <td>0.0</td>\n",
       "      <td>192.0</td>\n",
       "      <td>0.0</td>\n",
       "      <td>978.4</td>\n",
       "      <td>825.5</td>\n",
       "      <td>360</td>\n",
       "      <td>44.296075</td>\n",
       "    </tr>\n",
       "  </tbody>\n",
       "</table>\n",
       "</div>"
      ],
      "text/plain": [
       "   Cement (component 1)(kg in a m^3 mixture)  \\\n",
       "0                                      540.0   \n",
       "1                                      540.0   \n",
       "2                                      332.5   \n",
       "3                                      332.5   \n",
       "4                                      198.6   \n",
       "\n",
       "   Blast Furnace Slag (component 2)(kg in a m^3 mixture)  \\\n",
       "0                                                0.0       \n",
       "1                                                0.0       \n",
       "2                                              142.5       \n",
       "3                                              142.5       \n",
       "4                                              132.4       \n",
       "\n",
       "   Fly Ash (component 3)(kg in a m^3 mixture)  \\\n",
       "0                                         0.0   \n",
       "1                                         0.0   \n",
       "2                                         0.0   \n",
       "3                                         0.0   \n",
       "4                                         0.0   \n",
       "\n",
       "   Water  (component 4)(kg in a m^3 mixture)  \\\n",
       "0                                      162.0   \n",
       "1                                      162.0   \n",
       "2                                      228.0   \n",
       "3                                      228.0   \n",
       "4                                      192.0   \n",
       "\n",
       "   Superplasticizer (component 5)(kg in a m^3 mixture)  \\\n",
       "0                                                2.5     \n",
       "1                                                2.5     \n",
       "2                                                0.0     \n",
       "3                                                0.0     \n",
       "4                                                0.0     \n",
       "\n",
       "   Coarse Aggregate  (component 6)(kg in a m^3 mixture)  \\\n",
       "0                                             1040.0      \n",
       "1                                             1055.0      \n",
       "2                                              932.0      \n",
       "3                                              932.0      \n",
       "4                                              978.4      \n",
       "\n",
       "   Fine Aggregate (component 7)(kg in a m^3 mixture)  Age (day)  \\\n",
       "0                                              676.0         28   \n",
       "1                                              676.0         28   \n",
       "2                                              594.0        270   \n",
       "3                                              594.0        365   \n",
       "4                                              825.5        360   \n",
       "\n",
       "   Concrete compressive strength(MPa, megapascals)   \n",
       "0                                         79.986111  \n",
       "1                                         61.887366  \n",
       "2                                         40.269535  \n",
       "3                                         41.052780  \n",
       "4                                         44.296075  "
      ]
     },
     "execution_count": 1,
     "metadata": {},
     "output_type": "execute_result"
    }
   ],
   "source": [
    "# import library\n",
    "import pandas as pd\n",
    "\n",
    "#Read data\n",
    "df=pd.read_csv(r\"d:\\\\ML_Projects\\\\cement-strength-prediction\\\\notebook\\\\data\\\\cement_data.csv\")\n",
    "\n",
    "df.head()"
   ]
  },
  {
   "cell_type": "code",
   "execution_count": 2,
   "metadata": {},
   "outputs": [
    {
     "data": {
      "text/plain": [
       "(1030, 9)"
      ]
     },
     "execution_count": 2,
     "metadata": {},
     "output_type": "execute_result"
    }
   ],
   "source": [
    "df.shape"
   ]
  },
  {
   "cell_type": "code",
   "execution_count": 3,
   "metadata": {},
   "outputs": [
    {
     "name": "stdout",
     "output_type": "stream",
     "text": [
      "<class 'pandas.core.frame.DataFrame'>\n",
      "RangeIndex: 1030 entries, 0 to 1029\n",
      "Data columns (total 9 columns):\n",
      " #   Column                                                 Non-Null Count  Dtype  \n",
      "---  ------                                                 --------------  -----  \n",
      " 0   Cement (component 1)(kg in a m^3 mixture)              1030 non-null   float64\n",
      " 1   Blast Furnace Slag (component 2)(kg in a m^3 mixture)  1030 non-null   float64\n",
      " 2   Fly Ash (component 3)(kg in a m^3 mixture)             1030 non-null   float64\n",
      " 3   Water  (component 4)(kg in a m^3 mixture)              1030 non-null   float64\n",
      " 4   Superplasticizer (component 5)(kg in a m^3 mixture)    1030 non-null   float64\n",
      " 5   Coarse Aggregate  (component 6)(kg in a m^3 mixture)   1030 non-null   float64\n",
      " 6   Fine Aggregate (component 7)(kg in a m^3 mixture)      1030 non-null   float64\n",
      " 7   Age (day)                                              1030 non-null   int64  \n",
      " 8   Concrete compressive strength(MPa, megapascals)        1030 non-null   float64\n",
      "dtypes: float64(8), int64(1)\n",
      "memory usage: 72.5 KB\n"
     ]
    }
   ],
   "source": [
    "df.info()"
   ]
  },
  {
   "cell_type": "markdown",
   "metadata": {},
   "source": [
    "### Data Description\n",
    "Given is the variable name, variable type, the measurement unit and a brief description. \n",
    "The concrete compressive strength is the regression problem. The order of this listing \n",
    "corresponds to the order of numerals along the rows of the database. \n",
    "\n",
    "Name -- Data Type -- Measurement -- Description\n",
    "\n",
    "Cement (component 1) -- quantitative -- kg in a m3 mixture -- Input Variable\n",
    "\n",
    "Blast Furnace Slag (component 2) -- quantitative -- kg in a m3 mixture -- Input Variable\n",
    "\n",
    "Fly Ash (component 3) -- quantitative -- kg in a m3 mixture -- Input Variable\n",
    "\n",
    "Water (component 4) -- quantitative -- kg in a m3 mixture -- Input Variable\n",
    "\n",
    "Superplasticizer (component 5) -- quantitative -- kg in a m3 mixture -- Input Variable\n",
    "\n",
    "Coarse Aggregate (component 6) -- quantitative -- kg in a m3 mixture -- Input Variable\n",
    "\n",
    "Fine Aggregate (component 7) -- quantitative -- kg in a m3 mixture -- Input Variable\n",
    "\n",
    "Age -- quantitative -- Day (1~365) -- Input Variable\n",
    "\n",
    "Concrete compressive strength -- quantitative -- MPa -- Output Variable "
   ]
  },
  {
   "cell_type": "markdown",
   "metadata": {},
   "source": [
    "## Insight\n",
    "\n",
    "- All features are numerical"
   ]
  },
  {
   "cell_type": "code",
   "execution_count": 4,
   "metadata": {},
   "outputs": [
    {
     "data": {
      "text/html": [
       "<div>\n",
       "<style scoped>\n",
       "    .dataframe tbody tr th:only-of-type {\n",
       "        vertical-align: middle;\n",
       "    }\n",
       "\n",
       "    .dataframe tbody tr th {\n",
       "        vertical-align: top;\n",
       "    }\n",
       "\n",
       "    .dataframe thead th {\n",
       "        text-align: right;\n",
       "    }\n",
       "</style>\n",
       "<table border=\"1\" class=\"dataframe\">\n",
       "  <thead>\n",
       "    <tr style=\"text-align: right;\">\n",
       "      <th></th>\n",
       "      <th>Cement (component 1)(kg in a m^3 mixture)</th>\n",
       "      <th>Blast Furnace Slag (component 2)(kg in a m^3 mixture)</th>\n",
       "      <th>Fly Ash (component 3)(kg in a m^3 mixture)</th>\n",
       "      <th>Water  (component 4)(kg in a m^3 mixture)</th>\n",
       "      <th>Superplasticizer (component 5)(kg in a m^3 mixture)</th>\n",
       "      <th>Coarse Aggregate  (component 6)(kg in a m^3 mixture)</th>\n",
       "      <th>Fine Aggregate (component 7)(kg in a m^3 mixture)</th>\n",
       "      <th>Age (day)</th>\n",
       "      <th>Concrete compressive strength(MPa, megapascals)</th>\n",
       "    </tr>\n",
       "  </thead>\n",
       "  <tbody>\n",
       "    <tr>\n",
       "      <th>Cement (component 1)(kg in a m^3 mixture)</th>\n",
       "      <td>1.000000</td>\n",
       "      <td>-0.275193</td>\n",
       "      <td>-0.397475</td>\n",
       "      <td>-0.081544</td>\n",
       "      <td>0.092771</td>\n",
       "      <td>-0.109356</td>\n",
       "      <td>-0.222720</td>\n",
       "      <td>0.081947</td>\n",
       "      <td>0.497833</td>\n",
       "    </tr>\n",
       "    <tr>\n",
       "      <th>Blast Furnace Slag (component 2)(kg in a m^3 mixture)</th>\n",
       "      <td>-0.275193</td>\n",
       "      <td>1.000000</td>\n",
       "      <td>-0.323569</td>\n",
       "      <td>0.107286</td>\n",
       "      <td>0.043376</td>\n",
       "      <td>-0.283998</td>\n",
       "      <td>-0.281593</td>\n",
       "      <td>-0.044246</td>\n",
       "      <td>0.134824</td>\n",
       "    </tr>\n",
       "    <tr>\n",
       "      <th>Fly Ash (component 3)(kg in a m^3 mixture)</th>\n",
       "      <td>-0.397475</td>\n",
       "      <td>-0.323569</td>\n",
       "      <td>1.000000</td>\n",
       "      <td>-0.257044</td>\n",
       "      <td>0.377340</td>\n",
       "      <td>-0.009977</td>\n",
       "      <td>0.079076</td>\n",
       "      <td>-0.154370</td>\n",
       "      <td>-0.105753</td>\n",
       "    </tr>\n",
       "    <tr>\n",
       "      <th>Water  (component 4)(kg in a m^3 mixture)</th>\n",
       "      <td>-0.081544</td>\n",
       "      <td>0.107286</td>\n",
       "      <td>-0.257044</td>\n",
       "      <td>1.000000</td>\n",
       "      <td>-0.657464</td>\n",
       "      <td>-0.182312</td>\n",
       "      <td>-0.450635</td>\n",
       "      <td>0.277604</td>\n",
       "      <td>-0.289613</td>\n",
       "    </tr>\n",
       "    <tr>\n",
       "      <th>Superplasticizer (component 5)(kg in a m^3 mixture)</th>\n",
       "      <td>0.092771</td>\n",
       "      <td>0.043376</td>\n",
       "      <td>0.377340</td>\n",
       "      <td>-0.657464</td>\n",
       "      <td>1.000000</td>\n",
       "      <td>-0.266303</td>\n",
       "      <td>0.222501</td>\n",
       "      <td>-0.192717</td>\n",
       "      <td>0.366102</td>\n",
       "    </tr>\n",
       "    <tr>\n",
       "      <th>Coarse Aggregate  (component 6)(kg in a m^3 mixture)</th>\n",
       "      <td>-0.109356</td>\n",
       "      <td>-0.283998</td>\n",
       "      <td>-0.009977</td>\n",
       "      <td>-0.182312</td>\n",
       "      <td>-0.266303</td>\n",
       "      <td>1.000000</td>\n",
       "      <td>-0.178506</td>\n",
       "      <td>-0.003016</td>\n",
       "      <td>-0.164928</td>\n",
       "    </tr>\n",
       "    <tr>\n",
       "      <th>Fine Aggregate (component 7)(kg in a m^3 mixture)</th>\n",
       "      <td>-0.222720</td>\n",
       "      <td>-0.281593</td>\n",
       "      <td>0.079076</td>\n",
       "      <td>-0.450635</td>\n",
       "      <td>0.222501</td>\n",
       "      <td>-0.178506</td>\n",
       "      <td>1.000000</td>\n",
       "      <td>-0.156094</td>\n",
       "      <td>-0.167249</td>\n",
       "    </tr>\n",
       "    <tr>\n",
       "      <th>Age (day)</th>\n",
       "      <td>0.081947</td>\n",
       "      <td>-0.044246</td>\n",
       "      <td>-0.154370</td>\n",
       "      <td>0.277604</td>\n",
       "      <td>-0.192717</td>\n",
       "      <td>-0.003016</td>\n",
       "      <td>-0.156094</td>\n",
       "      <td>1.000000</td>\n",
       "      <td>0.328877</td>\n",
       "    </tr>\n",
       "    <tr>\n",
       "      <th>Concrete compressive strength(MPa, megapascals)</th>\n",
       "      <td>0.497833</td>\n",
       "      <td>0.134824</td>\n",
       "      <td>-0.105753</td>\n",
       "      <td>-0.289613</td>\n",
       "      <td>0.366102</td>\n",
       "      <td>-0.164928</td>\n",
       "      <td>-0.167249</td>\n",
       "      <td>0.328877</td>\n",
       "      <td>1.000000</td>\n",
       "    </tr>\n",
       "  </tbody>\n",
       "</table>\n",
       "</div>"
      ],
      "text/plain": [
       "                                                    Cement (component 1)(kg in a m^3 mixture)  \\\n",
       "Cement (component 1)(kg in a m^3 mixture)                                            1.000000   \n",
       "Blast Furnace Slag (component 2)(kg in a m^3 mi...                                  -0.275193   \n",
       "Fly Ash (component 3)(kg in a m^3 mixture)                                          -0.397475   \n",
       "Water  (component 4)(kg in a m^3 mixture)                                           -0.081544   \n",
       "Superplasticizer (component 5)(kg in a m^3 mixt...                                   0.092771   \n",
       "Coarse Aggregate  (component 6)(kg in a m^3 mix...                                  -0.109356   \n",
       "Fine Aggregate (component 7)(kg in a m^3 mixture)                                   -0.222720   \n",
       "Age (day)                                                                            0.081947   \n",
       "Concrete compressive strength(MPa, megapascals)                                      0.497833   \n",
       "\n",
       "                                                    Blast Furnace Slag (component 2)(kg in a m^3 mixture)  \\\n",
       "Cement (component 1)(kg in a m^3 mixture)                                                   -0.275193       \n",
       "Blast Furnace Slag (component 2)(kg in a m^3 mi...                                           1.000000       \n",
       "Fly Ash (component 3)(kg in a m^3 mixture)                                                  -0.323569       \n",
       "Water  (component 4)(kg in a m^3 mixture)                                                    0.107286       \n",
       "Superplasticizer (component 5)(kg in a m^3 mixt...                                           0.043376       \n",
       "Coarse Aggregate  (component 6)(kg in a m^3 mix...                                          -0.283998       \n",
       "Fine Aggregate (component 7)(kg in a m^3 mixture)                                           -0.281593       \n",
       "Age (day)                                                                                   -0.044246       \n",
       "Concrete compressive strength(MPa, megapascals)                                              0.134824       \n",
       "\n",
       "                                                    Fly Ash (component 3)(kg in a m^3 mixture)  \\\n",
       "Cement (component 1)(kg in a m^3 mixture)                                            -0.397475   \n",
       "Blast Furnace Slag (component 2)(kg in a m^3 mi...                                   -0.323569   \n",
       "Fly Ash (component 3)(kg in a m^3 mixture)                                            1.000000   \n",
       "Water  (component 4)(kg in a m^3 mixture)                                            -0.257044   \n",
       "Superplasticizer (component 5)(kg in a m^3 mixt...                                    0.377340   \n",
       "Coarse Aggregate  (component 6)(kg in a m^3 mix...                                   -0.009977   \n",
       "Fine Aggregate (component 7)(kg in a m^3 mixture)                                     0.079076   \n",
       "Age (day)                                                                            -0.154370   \n",
       "Concrete compressive strength(MPa, megapascals)                                      -0.105753   \n",
       "\n",
       "                                                    Water  (component 4)(kg in a m^3 mixture)  \\\n",
       "Cement (component 1)(kg in a m^3 mixture)                                           -0.081544   \n",
       "Blast Furnace Slag (component 2)(kg in a m^3 mi...                                   0.107286   \n",
       "Fly Ash (component 3)(kg in a m^3 mixture)                                          -0.257044   \n",
       "Water  (component 4)(kg in a m^3 mixture)                                            1.000000   \n",
       "Superplasticizer (component 5)(kg in a m^3 mixt...                                  -0.657464   \n",
       "Coarse Aggregate  (component 6)(kg in a m^3 mix...                                  -0.182312   \n",
       "Fine Aggregate (component 7)(kg in a m^3 mixture)                                   -0.450635   \n",
       "Age (day)                                                                            0.277604   \n",
       "Concrete compressive strength(MPa, megapascals)                                     -0.289613   \n",
       "\n",
       "                                                    Superplasticizer (component 5)(kg in a m^3 mixture)  \\\n",
       "Cement (component 1)(kg in a m^3 mixture)                                                    0.092771     \n",
       "Blast Furnace Slag (component 2)(kg in a m^3 mi...                                           0.043376     \n",
       "Fly Ash (component 3)(kg in a m^3 mixture)                                                   0.377340     \n",
       "Water  (component 4)(kg in a m^3 mixture)                                                   -0.657464     \n",
       "Superplasticizer (component 5)(kg in a m^3 mixt...                                           1.000000     \n",
       "Coarse Aggregate  (component 6)(kg in a m^3 mix...                                          -0.266303     \n",
       "Fine Aggregate (component 7)(kg in a m^3 mixture)                                            0.222501     \n",
       "Age (day)                                                                                   -0.192717     \n",
       "Concrete compressive strength(MPa, megapascals)                                              0.366102     \n",
       "\n",
       "                                                    Coarse Aggregate  (component 6)(kg in a m^3 mixture)  \\\n",
       "Cement (component 1)(kg in a m^3 mixture)                                                   -0.109356      \n",
       "Blast Furnace Slag (component 2)(kg in a m^3 mi...                                          -0.283998      \n",
       "Fly Ash (component 3)(kg in a m^3 mixture)                                                  -0.009977      \n",
       "Water  (component 4)(kg in a m^3 mixture)                                                   -0.182312      \n",
       "Superplasticizer (component 5)(kg in a m^3 mixt...                                          -0.266303      \n",
       "Coarse Aggregate  (component 6)(kg in a m^3 mix...                                           1.000000      \n",
       "Fine Aggregate (component 7)(kg in a m^3 mixture)                                           -0.178506      \n",
       "Age (day)                                                                                   -0.003016      \n",
       "Concrete compressive strength(MPa, megapascals)                                             -0.164928      \n",
       "\n",
       "                                                    Fine Aggregate (component 7)(kg in a m^3 mixture)  \\\n",
       "Cement (component 1)(kg in a m^3 mixture)                                                   -0.222720   \n",
       "Blast Furnace Slag (component 2)(kg in a m^3 mi...                                          -0.281593   \n",
       "Fly Ash (component 3)(kg in a m^3 mixture)                                                   0.079076   \n",
       "Water  (component 4)(kg in a m^3 mixture)                                                   -0.450635   \n",
       "Superplasticizer (component 5)(kg in a m^3 mixt...                                           0.222501   \n",
       "Coarse Aggregate  (component 6)(kg in a m^3 mix...                                          -0.178506   \n",
       "Fine Aggregate (component 7)(kg in a m^3 mixture)                                            1.000000   \n",
       "Age (day)                                                                                   -0.156094   \n",
       "Concrete compressive strength(MPa, megapascals)                                             -0.167249   \n",
       "\n",
       "                                                    Age (day)  \\\n",
       "Cement (component 1)(kg in a m^3 mixture)            0.081947   \n",
       "Blast Furnace Slag (component 2)(kg in a m^3 mi...  -0.044246   \n",
       "Fly Ash (component 3)(kg in a m^3 mixture)          -0.154370   \n",
       "Water  (component 4)(kg in a m^3 mixture)            0.277604   \n",
       "Superplasticizer (component 5)(kg in a m^3 mixt...  -0.192717   \n",
       "Coarse Aggregate  (component 6)(kg in a m^3 mix...  -0.003016   \n",
       "Fine Aggregate (component 7)(kg in a m^3 mixture)   -0.156094   \n",
       "Age (day)                                            1.000000   \n",
       "Concrete compressive strength(MPa, megapascals)      0.328877   \n",
       "\n",
       "                                                    Concrete compressive strength(MPa, megapascals)   \n",
       "Cement (component 1)(kg in a m^3 mixture)                                                   0.497833  \n",
       "Blast Furnace Slag (component 2)(kg in a m^3 mi...                                          0.134824  \n",
       "Fly Ash (component 3)(kg in a m^3 mixture)                                                 -0.105753  \n",
       "Water  (component 4)(kg in a m^3 mixture)                                                  -0.289613  \n",
       "Superplasticizer (component 5)(kg in a m^3 mixt...                                          0.366102  \n",
       "Coarse Aggregate  (component 6)(kg in a m^3 mix...                                         -0.164928  \n",
       "Fine Aggregate (component 7)(kg in a m^3 mixture)                                          -0.167249  \n",
       "Age (day)                                                                                   0.328877  \n",
       "Concrete compressive strength(MPa, megapascals)                                             1.000000  "
      ]
     },
     "execution_count": 4,
     "metadata": {},
     "output_type": "execute_result"
    }
   ],
   "source": [
    "df.corr()"
   ]
  },
  {
   "cell_type": "markdown",
   "metadata": {},
   "source": [
    "## Insight\n",
    "\n",
    "- Cement is 50% Co-related in Concrete Strength"
   ]
  },
  {
   "cell_type": "code",
   "execution_count": 5,
   "metadata": {},
   "outputs": [
    {
     "data": {
      "text/html": [
       "<div>\n",
       "<style scoped>\n",
       "    .dataframe tbody tr th:only-of-type {\n",
       "        vertical-align: middle;\n",
       "    }\n",
       "\n",
       "    .dataframe tbody tr th {\n",
       "        vertical-align: top;\n",
       "    }\n",
       "\n",
       "    .dataframe thead th {\n",
       "        text-align: right;\n",
       "    }\n",
       "</style>\n",
       "<table border=\"1\" class=\"dataframe\">\n",
       "  <thead>\n",
       "    <tr style=\"text-align: right;\">\n",
       "      <th></th>\n",
       "      <th>Cement (component 1)(kg in a m^3 mixture)</th>\n",
       "      <th>Blast Furnace Slag (component 2)(kg in a m^3 mixture)</th>\n",
       "      <th>Fly Ash (component 3)(kg in a m^3 mixture)</th>\n",
       "      <th>Water  (component 4)(kg in a m^3 mixture)</th>\n",
       "      <th>Superplasticizer (component 5)(kg in a m^3 mixture)</th>\n",
       "      <th>Coarse Aggregate  (component 6)(kg in a m^3 mixture)</th>\n",
       "      <th>Fine Aggregate (component 7)(kg in a m^3 mixture)</th>\n",
       "      <th>Age (day)</th>\n",
       "      <th>Concrete compressive strength(MPa, megapascals)</th>\n",
       "    </tr>\n",
       "  </thead>\n",
       "  <tbody>\n",
       "    <tr>\n",
       "      <th>count</th>\n",
       "      <td>1030.000000</td>\n",
       "      <td>1030.000000</td>\n",
       "      <td>1030.000000</td>\n",
       "      <td>1030.000000</td>\n",
       "      <td>1030.000000</td>\n",
       "      <td>1030.000000</td>\n",
       "      <td>1030.000000</td>\n",
       "      <td>1030.000000</td>\n",
       "      <td>1030.000000</td>\n",
       "    </tr>\n",
       "    <tr>\n",
       "      <th>mean</th>\n",
       "      <td>281.165631</td>\n",
       "      <td>73.895485</td>\n",
       "      <td>54.187136</td>\n",
       "      <td>181.566359</td>\n",
       "      <td>6.203112</td>\n",
       "      <td>972.918592</td>\n",
       "      <td>773.578883</td>\n",
       "      <td>45.662136</td>\n",
       "      <td>35.817836</td>\n",
       "    </tr>\n",
       "    <tr>\n",
       "      <th>std</th>\n",
       "      <td>104.507142</td>\n",
       "      <td>86.279104</td>\n",
       "      <td>63.996469</td>\n",
       "      <td>21.355567</td>\n",
       "      <td>5.973492</td>\n",
       "      <td>77.753818</td>\n",
       "      <td>80.175427</td>\n",
       "      <td>63.169912</td>\n",
       "      <td>16.705679</td>\n",
       "    </tr>\n",
       "    <tr>\n",
       "      <th>min</th>\n",
       "      <td>102.000000</td>\n",
       "      <td>0.000000</td>\n",
       "      <td>0.000000</td>\n",
       "      <td>121.750000</td>\n",
       "      <td>0.000000</td>\n",
       "      <td>801.000000</td>\n",
       "      <td>594.000000</td>\n",
       "      <td>1.000000</td>\n",
       "      <td>2.331808</td>\n",
       "    </tr>\n",
       "    <tr>\n",
       "      <th>25%</th>\n",
       "      <td>192.375000</td>\n",
       "      <td>0.000000</td>\n",
       "      <td>0.000000</td>\n",
       "      <td>164.900000</td>\n",
       "      <td>0.000000</td>\n",
       "      <td>932.000000</td>\n",
       "      <td>730.950000</td>\n",
       "      <td>7.000000</td>\n",
       "      <td>23.707115</td>\n",
       "    </tr>\n",
       "    <tr>\n",
       "      <th>50%</th>\n",
       "      <td>272.900000</td>\n",
       "      <td>22.000000</td>\n",
       "      <td>0.000000</td>\n",
       "      <td>185.000000</td>\n",
       "      <td>6.350000</td>\n",
       "      <td>968.000000</td>\n",
       "      <td>779.510000</td>\n",
       "      <td>28.000000</td>\n",
       "      <td>34.442774</td>\n",
       "    </tr>\n",
       "    <tr>\n",
       "      <th>75%</th>\n",
       "      <td>350.000000</td>\n",
       "      <td>142.950000</td>\n",
       "      <td>118.270000</td>\n",
       "      <td>192.000000</td>\n",
       "      <td>10.160000</td>\n",
       "      <td>1029.400000</td>\n",
       "      <td>824.000000</td>\n",
       "      <td>56.000000</td>\n",
       "      <td>46.136287</td>\n",
       "    </tr>\n",
       "    <tr>\n",
       "      <th>max</th>\n",
       "      <td>540.000000</td>\n",
       "      <td>359.400000</td>\n",
       "      <td>200.100000</td>\n",
       "      <td>247.000000</td>\n",
       "      <td>32.200000</td>\n",
       "      <td>1145.000000</td>\n",
       "      <td>992.600000</td>\n",
       "      <td>365.000000</td>\n",
       "      <td>82.599225</td>\n",
       "    </tr>\n",
       "  </tbody>\n",
       "</table>\n",
       "</div>"
      ],
      "text/plain": [
       "       Cement (component 1)(kg in a m^3 mixture)  \\\n",
       "count                                1030.000000   \n",
       "mean                                  281.165631   \n",
       "std                                   104.507142   \n",
       "min                                   102.000000   \n",
       "25%                                   192.375000   \n",
       "50%                                   272.900000   \n",
       "75%                                   350.000000   \n",
       "max                                   540.000000   \n",
       "\n",
       "       Blast Furnace Slag (component 2)(kg in a m^3 mixture)  \\\n",
       "count                                        1030.000000       \n",
       "mean                                           73.895485       \n",
       "std                                            86.279104       \n",
       "min                                             0.000000       \n",
       "25%                                             0.000000       \n",
       "50%                                            22.000000       \n",
       "75%                                           142.950000       \n",
       "max                                           359.400000       \n",
       "\n",
       "       Fly Ash (component 3)(kg in a m^3 mixture)  \\\n",
       "count                                 1030.000000   \n",
       "mean                                    54.187136   \n",
       "std                                     63.996469   \n",
       "min                                      0.000000   \n",
       "25%                                      0.000000   \n",
       "50%                                      0.000000   \n",
       "75%                                    118.270000   \n",
       "max                                    200.100000   \n",
       "\n",
       "       Water  (component 4)(kg in a m^3 mixture)  \\\n",
       "count                                1030.000000   \n",
       "mean                                  181.566359   \n",
       "std                                    21.355567   \n",
       "min                                   121.750000   \n",
       "25%                                   164.900000   \n",
       "50%                                   185.000000   \n",
       "75%                                   192.000000   \n",
       "max                                   247.000000   \n",
       "\n",
       "       Superplasticizer (component 5)(kg in a m^3 mixture)  \\\n",
       "count                                        1030.000000     \n",
       "mean                                            6.203112     \n",
       "std                                             5.973492     \n",
       "min                                             0.000000     \n",
       "25%                                             0.000000     \n",
       "50%                                             6.350000     \n",
       "75%                                            10.160000     \n",
       "max                                            32.200000     \n",
       "\n",
       "       Coarse Aggregate  (component 6)(kg in a m^3 mixture)  \\\n",
       "count                                        1030.000000      \n",
       "mean                                          972.918592      \n",
       "std                                            77.753818      \n",
       "min                                           801.000000      \n",
       "25%                                           932.000000      \n",
       "50%                                           968.000000      \n",
       "75%                                          1029.400000      \n",
       "max                                          1145.000000      \n",
       "\n",
       "       Fine Aggregate (component 7)(kg in a m^3 mixture)    Age (day)  \\\n",
       "count                                        1030.000000  1030.000000   \n",
       "mean                                          773.578883    45.662136   \n",
       "std                                            80.175427    63.169912   \n",
       "min                                           594.000000     1.000000   \n",
       "25%                                           730.950000     7.000000   \n",
       "50%                                           779.510000    28.000000   \n",
       "75%                                           824.000000    56.000000   \n",
       "max                                           992.600000   365.000000   \n",
       "\n",
       "       Concrete compressive strength(MPa, megapascals)   \n",
       "count                                       1030.000000  \n",
       "mean                                          35.817836  \n",
       "std                                           16.705679  \n",
       "min                                            2.331808  \n",
       "25%                                           23.707115  \n",
       "50%                                           34.442774  \n",
       "75%                                           46.136287  \n",
       "max                                           82.599225  "
      ]
     },
     "execution_count": 5,
     "metadata": {},
     "output_type": "execute_result"
    }
   ],
   "source": [
    "df.describe()"
   ]
  },
  {
   "cell_type": "markdown",
   "metadata": {},
   "source": [
    "## Insight\n",
    "\n",
    "- Blast Furnace Slag and Age columns have outliers"
   ]
  },
  {
   "cell_type": "code",
   "execution_count": 6,
   "metadata": {},
   "outputs": [
    {
     "data": {
      "text/html": [
       "<div>\n",
       "<style scoped>\n",
       "    .dataframe tbody tr th:only-of-type {\n",
       "        vertical-align: middle;\n",
       "    }\n",
       "\n",
       "    .dataframe tbody tr th {\n",
       "        vertical-align: top;\n",
       "    }\n",
       "\n",
       "    .dataframe thead th {\n",
       "        text-align: right;\n",
       "    }\n",
       "</style>\n",
       "<table border=\"1\" class=\"dataframe\">\n",
       "  <thead>\n",
       "    <tr style=\"text-align: right;\">\n",
       "      <th></th>\n",
       "      <th>Cement (component 1)(kg in a m^3 mixture)</th>\n",
       "      <th>Blast Furnace Slag (component 2)(kg in a m^3 mixture)</th>\n",
       "      <th>Fly Ash (component 3)(kg in a m^3 mixture)</th>\n",
       "      <th>Water  (component 4)(kg in a m^3 mixture)</th>\n",
       "      <th>Superplasticizer (component 5)(kg in a m^3 mixture)</th>\n",
       "      <th>Coarse Aggregate  (component 6)(kg in a m^3 mixture)</th>\n",
       "      <th>Fine Aggregate (component 7)(kg in a m^3 mixture)</th>\n",
       "      <th>Age (day)</th>\n",
       "      <th>Concrete compressive strength(MPa, megapascals)</th>\n",
       "    </tr>\n",
       "  </thead>\n",
       "  <tbody>\n",
       "    <tr>\n",
       "      <th>0</th>\n",
       "      <td>540.0</td>\n",
       "      <td>0.0</td>\n",
       "      <td>0.0</td>\n",
       "      <td>162.0</td>\n",
       "      <td>2.5</td>\n",
       "      <td>1040.0</td>\n",
       "      <td>676.0</td>\n",
       "      <td>28</td>\n",
       "      <td>79.986111</td>\n",
       "    </tr>\n",
       "    <tr>\n",
       "      <th>1</th>\n",
       "      <td>540.0</td>\n",
       "      <td>0.0</td>\n",
       "      <td>0.0</td>\n",
       "      <td>162.0</td>\n",
       "      <td>2.5</td>\n",
       "      <td>1055.0</td>\n",
       "      <td>676.0</td>\n",
       "      <td>28</td>\n",
       "      <td>61.887366</td>\n",
       "    </tr>\n",
       "    <tr>\n",
       "      <th>2</th>\n",
       "      <td>332.5</td>\n",
       "      <td>142.5</td>\n",
       "      <td>0.0</td>\n",
       "      <td>228.0</td>\n",
       "      <td>0.0</td>\n",
       "      <td>932.0</td>\n",
       "      <td>594.0</td>\n",
       "      <td>270</td>\n",
       "      <td>40.269535</td>\n",
       "    </tr>\n",
       "    <tr>\n",
       "      <th>3</th>\n",
       "      <td>332.5</td>\n",
       "      <td>142.5</td>\n",
       "      <td>0.0</td>\n",
       "      <td>228.0</td>\n",
       "      <td>0.0</td>\n",
       "      <td>932.0</td>\n",
       "      <td>594.0</td>\n",
       "      <td>365</td>\n",
       "      <td>41.052780</td>\n",
       "    </tr>\n",
       "    <tr>\n",
       "      <th>4</th>\n",
       "      <td>198.6</td>\n",
       "      <td>132.4</td>\n",
       "      <td>0.0</td>\n",
       "      <td>192.0</td>\n",
       "      <td>0.0</td>\n",
       "      <td>978.4</td>\n",
       "      <td>825.5</td>\n",
       "      <td>360</td>\n",
       "      <td>44.296075</td>\n",
       "    </tr>\n",
       "    <tr>\n",
       "      <th>...</th>\n",
       "      <td>...</td>\n",
       "      <td>...</td>\n",
       "      <td>...</td>\n",
       "      <td>...</td>\n",
       "      <td>...</td>\n",
       "      <td>...</td>\n",
       "      <td>...</td>\n",
       "      <td>...</td>\n",
       "      <td>...</td>\n",
       "    </tr>\n",
       "    <tr>\n",
       "      <th>1025</th>\n",
       "      <td>276.4</td>\n",
       "      <td>116.0</td>\n",
       "      <td>90.3</td>\n",
       "      <td>179.6</td>\n",
       "      <td>8.9</td>\n",
       "      <td>870.1</td>\n",
       "      <td>768.3</td>\n",
       "      <td>28</td>\n",
       "      <td>44.284354</td>\n",
       "    </tr>\n",
       "    <tr>\n",
       "      <th>1026</th>\n",
       "      <td>322.2</td>\n",
       "      <td>0.0</td>\n",
       "      <td>115.6</td>\n",
       "      <td>196.0</td>\n",
       "      <td>10.4</td>\n",
       "      <td>817.9</td>\n",
       "      <td>813.4</td>\n",
       "      <td>28</td>\n",
       "      <td>31.178794</td>\n",
       "    </tr>\n",
       "    <tr>\n",
       "      <th>1027</th>\n",
       "      <td>148.5</td>\n",
       "      <td>139.4</td>\n",
       "      <td>108.6</td>\n",
       "      <td>192.7</td>\n",
       "      <td>6.1</td>\n",
       "      <td>892.4</td>\n",
       "      <td>780.0</td>\n",
       "      <td>28</td>\n",
       "      <td>23.696601</td>\n",
       "    </tr>\n",
       "    <tr>\n",
       "      <th>1028</th>\n",
       "      <td>159.1</td>\n",
       "      <td>186.7</td>\n",
       "      <td>0.0</td>\n",
       "      <td>175.6</td>\n",
       "      <td>11.3</td>\n",
       "      <td>989.6</td>\n",
       "      <td>788.9</td>\n",
       "      <td>28</td>\n",
       "      <td>32.768036</td>\n",
       "    </tr>\n",
       "    <tr>\n",
       "      <th>1029</th>\n",
       "      <td>260.9</td>\n",
       "      <td>100.5</td>\n",
       "      <td>78.3</td>\n",
       "      <td>200.6</td>\n",
       "      <td>8.6</td>\n",
       "      <td>864.5</td>\n",
       "      <td>761.5</td>\n",
       "      <td>28</td>\n",
       "      <td>32.401235</td>\n",
       "    </tr>\n",
       "  </tbody>\n",
       "</table>\n",
       "<p>1005 rows × 9 columns</p>\n",
       "</div>"
      ],
      "text/plain": [
       "      Cement (component 1)(kg in a m^3 mixture)  \\\n",
       "0                                         540.0   \n",
       "1                                         540.0   \n",
       "2                                         332.5   \n",
       "3                                         332.5   \n",
       "4                                         198.6   \n",
       "...                                         ...   \n",
       "1025                                      276.4   \n",
       "1026                                      322.2   \n",
       "1027                                      148.5   \n",
       "1028                                      159.1   \n",
       "1029                                      260.9   \n",
       "\n",
       "      Blast Furnace Slag (component 2)(kg in a m^3 mixture)  \\\n",
       "0                                                   0.0       \n",
       "1                                                   0.0       \n",
       "2                                                 142.5       \n",
       "3                                                 142.5       \n",
       "4                                                 132.4       \n",
       "...                                                 ...       \n",
       "1025                                              116.0       \n",
       "1026                                                0.0       \n",
       "1027                                              139.4       \n",
       "1028                                              186.7       \n",
       "1029                                              100.5       \n",
       "\n",
       "      Fly Ash (component 3)(kg in a m^3 mixture)  \\\n",
       "0                                            0.0   \n",
       "1                                            0.0   \n",
       "2                                            0.0   \n",
       "3                                            0.0   \n",
       "4                                            0.0   \n",
       "...                                          ...   \n",
       "1025                                        90.3   \n",
       "1026                                       115.6   \n",
       "1027                                       108.6   \n",
       "1028                                         0.0   \n",
       "1029                                        78.3   \n",
       "\n",
       "      Water  (component 4)(kg in a m^3 mixture)  \\\n",
       "0                                         162.0   \n",
       "1                                         162.0   \n",
       "2                                         228.0   \n",
       "3                                         228.0   \n",
       "4                                         192.0   \n",
       "...                                         ...   \n",
       "1025                                      179.6   \n",
       "1026                                      196.0   \n",
       "1027                                      192.7   \n",
       "1028                                      175.6   \n",
       "1029                                      200.6   \n",
       "\n",
       "      Superplasticizer (component 5)(kg in a m^3 mixture)  \\\n",
       "0                                                   2.5     \n",
       "1                                                   2.5     \n",
       "2                                                   0.0     \n",
       "3                                                   0.0     \n",
       "4                                                   0.0     \n",
       "...                                                 ...     \n",
       "1025                                                8.9     \n",
       "1026                                               10.4     \n",
       "1027                                                6.1     \n",
       "1028                                               11.3     \n",
       "1029                                                8.6     \n",
       "\n",
       "      Coarse Aggregate  (component 6)(kg in a m^3 mixture)  \\\n",
       "0                                                1040.0      \n",
       "1                                                1055.0      \n",
       "2                                                 932.0      \n",
       "3                                                 932.0      \n",
       "4                                                 978.4      \n",
       "...                                                 ...      \n",
       "1025                                              870.1      \n",
       "1026                                              817.9      \n",
       "1027                                              892.4      \n",
       "1028                                              989.6      \n",
       "1029                                              864.5      \n",
       "\n",
       "      Fine Aggregate (component 7)(kg in a m^3 mixture)  Age (day)  \\\n",
       "0                                                 676.0         28   \n",
       "1                                                 676.0         28   \n",
       "2                                                 594.0        270   \n",
       "3                                                 594.0        365   \n",
       "4                                                 825.5        360   \n",
       "...                                                 ...        ...   \n",
       "1025                                              768.3         28   \n",
       "1026                                              813.4         28   \n",
       "1027                                              780.0         28   \n",
       "1028                                              788.9         28   \n",
       "1029                                              761.5         28   \n",
       "\n",
       "      Concrete compressive strength(MPa, megapascals)   \n",
       "0                                            79.986111  \n",
       "1                                            61.887366  \n",
       "2                                            40.269535  \n",
       "3                                            41.052780  \n",
       "4                                            44.296075  \n",
       "...                                                ...  \n",
       "1025                                         44.284354  \n",
       "1026                                         31.178794  \n",
       "1027                                         23.696601  \n",
       "1028                                         32.768036  \n",
       "1029                                         32.401235  \n",
       "\n",
       "[1005 rows x 9 columns]"
      ]
     },
     "execution_count": 6,
     "metadata": {},
     "output_type": "execute_result"
    }
   ],
   "source": [
    "df.drop_duplicates()"
   ]
  },
  {
   "cell_type": "markdown",
   "metadata": {},
   "source": [
    "## Insight \n",
    "\n",
    "- There 25 Rows in a Dataset was Duplicated(Removed)"
   ]
  },
  {
   "cell_type": "code",
   "execution_count": 7,
   "metadata": {},
   "outputs": [],
   "source": [
    "import seaborn as sns"
   ]
  },
  {
   "cell_type": "code",
   "execution_count": 8,
   "metadata": {},
   "outputs": [
    {
     "data": {
      "text/plain": [
       "<Axes: xlabel='Blast Furnace Slag (component 2)(kg in a m^3 mixture)', ylabel='Count'>"
      ]
     },
     "execution_count": 8,
     "metadata": {},
     "output_type": "execute_result"
    },
    {
     "data": {
      "image/png": "[encoded data removed]",
      "text/plain": [
       "<Figure size 640x480 with 1 Axes>"
      ]
     },
     "metadata": {},
     "output_type": "display_data"
    }
   ],
   "source": [
    "sns.histplot(data=df,x='Blast Furnace Slag (component 2)(kg in a m^3 mixture)')"
   ]
  },
  {
   "cell_type": "markdown",
   "metadata": {},
   "source": [
    "## Insight \n",
    "- Blast Furance Slag column has right skewed"
   ]
  },
  {
   "cell_type": "code",
   "execution_count": 9,
   "metadata": {},
   "outputs": [
    {
     "data": {
      "text/plain": [
       "<Axes: xlabel='Age (day)', ylabel='Count'>"
      ]
     },
     "execution_count": 9,
     "metadata": {},
     "output_type": "execute_result"
    },
    {
     "data": {
      "image/png": "[encoded data removed]",
      "text/plain": [
       "<Figure size 640x480 with 1 Axes>"
      ]
     },
     "metadata": {},
     "output_type": "display_data"
    }
   ],
   "source": [
    "sns.histplot(data=df,x='Age (day)')"
   ]
  },
  {
   "cell_type": "code",
   "execution_count": 10,
   "metadata": {},
   "outputs": [
    {
     "data": {
      "text/plain": [
       "33"
      ]
     },
     "execution_count": 10,
     "metadata": {},
     "output_type": "execute_result"
    }
   ],
   "source": [
    "df['Age (day)'][df['Age (day)']>= 270].value_counts().sum()"
   ]
  },
  {
   "cell_type": "markdown",
   "metadata": {},
   "source": [
    "## Insight\n",
    "\n",
    "- Some concrete take 1 year to buit"
   ]
  },
  {
   "cell_type": "code",
   "execution_count": 11,
   "metadata": {},
   "outputs": [
    {
     "data": {
      "image/png": "[encoded data removed]",
      "text/plain": [
       "<Figure size 1500x1500 with 9 Axes>"
      ]
     },
     "metadata": {},
     "output_type": "display_data"
    }
   ],
   "source": [
    "import matplotlib.pyplot as plot\n",
    "import warnings\n",
    "warnings.filterwarnings('ignore')\n",
    "\n",
    "plot.figure(figsize=(15,15),facecolor='white')\n",
    "plotnumber = 1\n",
    "\n",
    "for column in df.columns:\n",
    "    ax = plot.subplot(4,3,plotnumber)\n",
    "    sns.distplot(df[column])\n",
    "    plot.xlabel(column,fontsize=10)\n",
    "    plotnumber+=1\n",
    "plot.show()"
   ]
  },
  {
   "cell_type": "markdown",
   "metadata": {},
   "source": [
    "## Removing outliers from Age Column using IQR Technique and trim data"
   ]
  },
  {
   "cell_type": "code",
   "execution_count": 12,
   "metadata": {},
   "outputs": [],
   "source": [
    "import numpy as np\n",
    "\n",
    "def iqr_on_data(X):\n",
    "    q1,q3=np.percentile(X,[25,75])\n",
    "    iqr=q3-q1\n",
    "    lower_bound=q1- 1.5*(iqr)\n",
    "    upper_bound=q3+ 1.5*(iqr)\n",
    "    outliers=[]\n",
    "    for i in X:\n",
    "        if i<lower_bound or i>upper_bound:\n",
    "            outliers.append(i)   \n",
    "    return outliers,lower_bound,upper_bound\n",
    "\n",
    "outliers,lower_bound,upper_bound=iqr_on_data(df['Age (day)'])"
   ]
  },
  {
   "cell_type": "code",
   "execution_count": null,
   "metadata": {},
   "outputs": [],
   "source": []
  },
  {
   "cell_type": "code",
   "execution_count": 13,
   "metadata": {},
   "outputs": [
    {
     "data": {
      "text/plain": [
       "(-66.5, 129.5)"
      ]
     },
     "execution_count": 13,
     "metadata": {},
     "output_type": "execute_result"
    }
   ],
   "source": [
    "lower_bound,upper_bound"
   ]
  },
  {
   "cell_type": "code",
   "execution_count": 16,
   "metadata": {},
   "outputs": [],
   "source": [
    "mask1=df['Age (day)']>lower_bound\n",
    "mask2=df['Age (day)']<upper_bound\n",
    "\n",
    "df=df[mask1 & mask2] # trim dataset\n",
    "\n",
    "df.to_csv('data/cementCleaned.csv',index=False,header=True)"
   ]
  },
  {
   "cell_type": "code",
   "execution_count": 23,
   "metadata": {},
   "outputs": [
    {
     "data": {
      "text/plain": [
       "(971, 9)"
      ]
     },
     "execution_count": 23,
     "metadata": {},
     "output_type": "execute_result"
    }
   ],
   "source": [
    "df.shape"
   ]
  },
  {
   "cell_type": "markdown",
   "metadata": {},
   "source": [
    "## Insight \n",
    "\n",
    "- There are 59 outlier find by IQR Technique in Age Column  and Remove from Dataset by trimming"
   ]
  },
  {
   "cell_type": "markdown",
   "metadata": {},
   "source": [
    "## Train Test Split"
   ]
  },
  {
   "cell_type": "code",
   "execution_count": 26,
   "metadata": {},
   "outputs": [],
   "source": [
    "from sklearn.model_selection import train_test_split\n",
    "\n",
    "X=df.iloc[:,:-1]\n",
    "y=df.iloc[:,-1]\n",
    "\n",
    "X_train,X_test,y_train,y_test=train_test_split(X,y,test_size=0.2,random_state=42)"
   ]
  },
  {
   "cell_type": "markdown",
   "metadata": {},
   "source": [
    "## Scaling Dataset using StandardScaler"
   ]
  },
  {
   "cell_type": "code",
   "execution_count": 27,
   "metadata": {},
   "outputs": [],
   "source": [
    "from sklearn.preprocessing import StandardScaler\n",
    "\n",
    "scaler=StandardScaler()\n",
    "\n",
    "X_train_scaled=scaler.fit_transform(X_train)\n",
    "\n",
    "X_test_scaled=scaler.transform(X_test)\n"
   ]
  },
  {
   "cell_type": "markdown",
   "metadata": {},
   "source": [
    "## Train Multiple Models"
   ]
  },
  {
   "cell_type": "code",
   "execution_count": 28,
   "metadata": {},
   "outputs": [],
   "source": [
    "from sklearn.linear_model import LinearRegression\n",
    "from sklearn.linear_model import Lasso\n",
    "from sklearn.linear_model import Ridge\n",
    "from sklearn.ensemble import RandomForestRegressor\n",
    "from sklearn.svm import SVR\n",
    "from sklearn.metrics import mean_squared_error,r2_score\n",
    "\n",
    "models={'LinearRegression':LinearRegression(),\n",
    "         'Lasso':Lasso(),\n",
    "        'Ridge':Ridge(),\n",
    "        'RandomForest':RandomForestRegressor(),\n",
    "        'SVR':SVR()\n",
    "}\n",
    "\n",
    "def evalute_model(X_train_scaled,X_test_scaled,y_train,y_test):\n",
    "    report_r2={}\n",
    "    report_mse={}\n",
    "    for i in range(len(models)):\n",
    "        model=list(models.values())[i]\n",
    "\n",
    "        model.fit(X_train_scaled,y_train)\n",
    "        y_pred=model.predict(X_test_scaled)\n",
    "\n",
    "        test_score=r2_score(y_test,y_pred)\n",
    "        test_error=mean_squared_error(y_test,y_pred)\n",
    "\n",
    "        report_r2[list(models.keys())[i]]=test_score\n",
    "        report_mse[list(models.keys())[i]]=test_error\n",
    "\n",
    "    return report_r2,report_mse \n",
    "\n",
    "score,error=evalute_model(X_train_scaled,X_test_scaled,y_train,y_test)\n",
    "\n"
   ]
  },
  {
   "cell_type": "code",
   "execution_count": 29,
   "metadata": {},
   "outputs": [
    {
     "data": {
      "text/plain": [
       "{'LinearRegression': 0.7465335861666388,\n",
       " 'Lasso': 0.7155578104333483,\n",
       " 'Ridge': 0.7471007438188073,\n",
       " 'RandomForest': 0.9003492690791812,\n",
       " 'SVR': 0.7165349112674395}"
      ]
     },
     "execution_count": 29,
     "metadata": {},
     "output_type": "execute_result"
    }
   ],
   "source": [
    "score"
   ]
  },
  {
   "cell_type": "code",
   "execution_count": 30,
   "metadata": {},
   "outputs": [
    {
     "data": {
      "text/plain": [
       "{'LinearRegression': 65.71609051501663,\n",
       " 'Lasso': 73.7471619736599,\n",
       " 'Ridge': 65.56904387857077,\n",
       " 'RandomForest': 25.836387369986774,\n",
       " 'SVR': 73.49382960553933}"
      ]
     },
     "execution_count": 30,
     "metadata": {},
     "output_type": "execute_result"
    }
   ],
   "source": [
    "error"
   ]
  },
  {
   "cell_type": "markdown",
   "metadata": {},
   "source": [
    "## Model Description\n",
    "\n",
    "- RandomForestRegressor preform better than LinearRegression, Lasso, Ridge and SVR with 89% Accuracy\n"
   ]
  },
  {
   "cell_type": "markdown",
   "metadata": {},
   "source": [
    "## Hyperparameter Tuning Using GridSearchCV"
   ]
  },
  {
   "cell_type": "code",
   "execution_count": 31,
   "metadata": {},
   "outputs": [],
   "source": [
    "from sklearn.model_selection import GridSearchCV\n",
    "params={'n_estimators':[100,150,200],\n",
    "        'criterion':['squared_error', 'absolute_error'],\n",
    "        'min_samples_split':[2,3,4,5]\n",
    "        }\n",
    "\n",
    "model=GridSearchCV(RandomForestRegressor(oob_score=True),param_grid=params,scoring='neg_mean_squared_error',verbose=3)"
   ]
  },
  {
   "cell_type": "code",
   "execution_count": 32,
   "metadata": {},
   "outputs": [
    {
     "name": "stdout",
     "output_type": "stream",
     "text": [
      "Fitting 5 folds for each of 24 candidates, totalling 120 fits\n",
      "[CV 1/5] END criterion=squared_error, min_samples_split=2, n_estimators=100;, score=-29.675 total time=   1.0s\n",
      "[CV 2/5] END criterion=squared_error, min_samples_split=2, n_estimators=100;, score=-26.908 total time=   0.9s\n",
      "[CV 3/5] END criterion=squared_error, min_samples_split=2, n_estimators=100;, score=-40.824 total time=   0.7s\n",
      "[CV 4/5] END criterion=squared_error, min_samples_split=2, n_estimators=100;, score=-32.974 total time=   0.9s\n",
      "[CV 5/5] END criterion=squared_error, min_samples_split=2, n_estimators=100;, score=-33.426 total time=   0.8s\n",
      "[CV 1/5] END criterion=squared_error, min_samples_split=2, n_estimators=150;, score=-29.141 total time=   1.3s\n",
      "[CV 2/5] END criterion=squared_error, min_samples_split=2, n_estimators=150;, score=-27.261 total time=   1.4s\n",
      "[CV 3/5] END criterion=squared_error, min_samples_split=2, n_estimators=150;, score=-41.709 total time=   1.4s\n",
      "[CV 4/5] END criterion=squared_error, min_samples_split=2, n_estimators=150;, score=-31.830 total time=   1.4s\n",
      "[CV 5/5] END criterion=squared_error, min_samples_split=2, n_estimators=150;, score=-33.170 total time=   1.3s\n",
      "[CV 1/5] END criterion=squared_error, min_samples_split=2, n_estimators=200;, score=-30.484 total time=   1.8s\n",
      "[CV 2/5] END criterion=squared_error, min_samples_split=2, n_estimators=200;, score=-26.210 total time=   1.6s\n",
      "[CV 3/5] END criterion=squared_error, min_samples_split=2, n_estimators=200;, score=-40.973 total time=   1.7s\n",
      "[CV 4/5] END criterion=squared_error, min_samples_split=2, n_estimators=200;, score=-31.360 total time=   1.8s\n",
      "[CV 5/5] END criterion=squared_error, min_samples_split=2, n_estimators=200;, score=-33.256 total time=   1.8s\n",
      "[CV 1/5] END criterion=squared_error, min_samples_split=3, n_estimators=100;, score=-31.954 total time=   0.7s\n",
      "[CV 2/5] END criterion=squared_error, min_samples_split=3, n_estimators=100;, score=-27.544 total time=   0.6s\n",
      "[CV 3/5] END criterion=squared_error, min_samples_split=3, n_estimators=100;, score=-40.183 total time=   0.6s\n",
      "[CV 4/5] END criterion=squared_error, min_samples_split=3, n_estimators=100;, score=-31.771 total time=   0.7s\n",
      "[CV 5/5] END criterion=squared_error, min_samples_split=3, n_estimators=100;, score=-33.793 total time=   0.6s\n",
      "[CV 1/5] END criterion=squared_error, min_samples_split=3, n_estimators=150;, score=-31.395 total time=   1.0s\n",
      "[CV 2/5] END criterion=squared_error, min_samples_split=3, n_estimators=150;, score=-27.977 total time=   1.0s\n",
      "[CV 3/5] END criterion=squared_error, min_samples_split=3, n_estimators=150;, score=-41.865 total time=   1.1s\n",
      "[CV 4/5] END criterion=squared_error, min_samples_split=3, n_estimators=150;, score=-31.243 total time=   1.1s\n",
      "[CV 5/5] END criterion=squared_error, min_samples_split=3, n_estimators=150;, score=-33.489 total time=   1.2s\n",
      "[CV 1/5] END criterion=squared_error, min_samples_split=3, n_estimators=200;, score=-30.634 total time=   1.6s\n",
      "[CV 2/5] END criterion=squared_error, min_samples_split=3, n_estimators=200;, score=-27.288 total time=   1.6s\n",
      "[CV 3/5] END criterion=squared_error, min_samples_split=3, n_estimators=200;, score=-40.435 total time=   1.5s\n",
      "[CV 4/5] END criterion=squared_error, min_samples_split=3, n_estimators=200;, score=-33.144 total time=   1.7s\n",
      "[CV 5/5] END criterion=squared_error, min_samples_split=3, n_estimators=200;, score=-32.380 total time=   1.4s\n",
      "[CV 1/5] END criterion=squared_error, min_samples_split=4, n_estimators=100;, score=-30.493 total time=   0.7s\n",
      "[CV 2/5] END criterion=squared_error, min_samples_split=4, n_estimators=100;, score=-29.303 total time=   0.7s\n",
      "[CV 3/5] END criterion=squared_error, min_samples_split=4, n_estimators=100;, score=-42.595 total time=   0.7s\n",
      "[CV 4/5] END criterion=squared_error, min_samples_split=4, n_estimators=100;, score=-33.262 total time=   0.7s\n",
      "[CV 5/5] END criterion=squared_error, min_samples_split=4, n_estimators=100;, score=-33.330 total time=   0.8s\n",
      "[CV 1/5] END criterion=squared_error, min_samples_split=4, n_estimators=150;, score=-31.344 total time=   1.0s\n",
      "[CV 2/5] END criterion=squared_error, min_samples_split=4, n_estimators=150;, score=-28.636 total time=   1.2s\n",
      "[CV 3/5] END criterion=squared_error, min_samples_split=4, n_estimators=150;, score=-41.413 total time=   1.0s\n",
      "[CV 4/5] END criterion=squared_error, min_samples_split=4, n_estimators=150;, score=-32.809 total time=   1.1s\n",
      "[CV 5/5] END criterion=squared_error, min_samples_split=4, n_estimators=150;, score=-34.825 total time=   1.0s\n",
      "[CV 1/5] END criterion=squared_error, min_samples_split=4, n_estimators=200;, score=-30.167 total time=   1.5s\n",
      "[CV 2/5] END criterion=squared_error, min_samples_split=4, n_estimators=200;, score=-27.937 total time=   1.4s\n",
      "[CV 3/5] END criterion=squared_error, min_samples_split=4, n_estimators=200;, score=-41.515 total time=   1.6s\n",
      "[CV 4/5] END criterion=squared_error, min_samples_split=4, n_estimators=200;, score=-33.679 total time=   1.7s\n",
      "[CV 5/5] END criterion=squared_error, min_samples_split=4, n_estimators=200;, score=-33.659 total time=   1.6s\n",
      "[CV 1/5] END criterion=squared_error, min_samples_split=5, n_estimators=100;, score=-32.109 total time=   0.5s\n",
      "[CV 2/5] END criterion=squared_error, min_samples_split=5, n_estimators=100;, score=-27.158 total time=   0.6s\n",
      "[CV 3/5] END criterion=squared_error, min_samples_split=5, n_estimators=100;, score=-43.988 total time=   0.8s\n",
      "[CV 4/5] END criterion=squared_error, min_samples_split=5, n_estimators=100;, score=-32.645 total time=   0.5s\n",
      "[CV 5/5] END criterion=squared_error, min_samples_split=5, n_estimators=100;, score=-33.351 total time=   0.7s\n",
      "[CV 1/5] END criterion=squared_error, min_samples_split=5, n_estimators=150;, score=-32.394 total time=   1.0s\n",
      "[CV 2/5] END criterion=squared_error, min_samples_split=5, n_estimators=150;, score=-27.383 total time=   1.1s\n",
      "[CV 3/5] END criterion=squared_error, min_samples_split=5, n_estimators=150;, score=-42.237 total time=   1.1s\n",
      "[CV 4/5] END criterion=squared_error, min_samples_split=5, n_estimators=150;, score=-31.982 total time=   1.2s\n",
      "[CV 5/5] END criterion=squared_error, min_samples_split=5, n_estimators=150;, score=-35.117 total time=   1.0s\n",
      "[CV 1/5] END criterion=squared_error, min_samples_split=5, n_estimators=200;, score=-31.763 total time=   1.3s\n",
      "[CV 2/5] END criterion=squared_error, min_samples_split=5, n_estimators=200;, score=-28.450 total time=   1.2s\n",
      "[CV 3/5] END criterion=squared_error, min_samples_split=5, n_estimators=200;, score=-41.605 total time=   1.5s\n",
      "[CV 4/5] END criterion=squared_error, min_samples_split=5, n_estimators=200;, score=-32.541 total time=   1.3s\n",
      "[CV 5/5] END criterion=squared_error, min_samples_split=5, n_estimators=200;, score=-33.275 total time=   1.4s\n",
      "[CV 1/5] END criterion=absolute_error, min_samples_split=2, n_estimators=100;, score=-31.488 total time=   2.2s\n",
      "[CV 2/5] END criterion=absolute_error, min_samples_split=2, n_estimators=100;, score=-25.247 total time=   2.6s\n",
      "[CV 3/5] END criterion=absolute_error, min_samples_split=2, n_estimators=100;, score=-42.010 total time=   2.8s\n",
      "[CV 4/5] END criterion=absolute_error, min_samples_split=2, n_estimators=100;, score=-29.952 total time=   2.3s\n",
      "[CV 5/5] END criterion=absolute_error, min_samples_split=2, n_estimators=100;, score=-30.786 total time=   2.3s\n",
      "[CV 1/5] END criterion=absolute_error, min_samples_split=2, n_estimators=150;, score=-28.729 total time=   4.0s\n",
      "[CV 2/5] END criterion=absolute_error, min_samples_split=2, n_estimators=150;, score=-27.179 total time=   4.1s\n",
      "[CV 3/5] END criterion=absolute_error, min_samples_split=2, n_estimators=150;, score=-43.242 total time=   4.3s\n",
      "[CV 4/5] END criterion=absolute_error, min_samples_split=2, n_estimators=150;, score=-30.773 total time=   4.1s\n",
      "[CV 5/5] END criterion=absolute_error, min_samples_split=2, n_estimators=150;, score=-31.587 total time=   3.8s\n",
      "[CV 1/5] END criterion=absolute_error, min_samples_split=2, n_estimators=200;, score=-30.611 total time=   4.3s\n",
      "[CV 2/5] END criterion=absolute_error, min_samples_split=2, n_estimators=200;, score=-26.145 total time=   4.7s\n",
      "[CV 3/5] END criterion=absolute_error, min_samples_split=2, n_estimators=200;, score=-40.047 total time=   5.7s\n",
      "[CV 4/5] END criterion=absolute_error, min_samples_split=2, n_estimators=200;, score=-28.895 total time=   4.9s\n",
      "[CV 5/5] END criterion=absolute_error, min_samples_split=2, n_estimators=200;, score=-30.980 total time=   5.3s\n",
      "[CV 1/5] END criterion=absolute_error, min_samples_split=3, n_estimators=100;, score=-31.299 total time=   2.4s\n",
      "[CV 2/5] END criterion=absolute_error, min_samples_split=3, n_estimators=100;, score=-26.954 total time=   2.0s\n",
      "[CV 3/5] END criterion=absolute_error, min_samples_split=3, n_estimators=100;, score=-38.948 total time=   2.4s\n",
      "[CV 4/5] END criterion=absolute_error, min_samples_split=3, n_estimators=100;, score=-29.616 total time=   2.4s\n",
      "[CV 5/5] END criterion=absolute_error, min_samples_split=3, n_estimators=100;, score=-32.755 total time=   2.2s\n",
      "[CV 1/5] END criterion=absolute_error, min_samples_split=3, n_estimators=150;, score=-30.989 total time=   2.8s\n",
      "[CV 2/5] END criterion=absolute_error, min_samples_split=3, n_estimators=150;, score=-26.339 total time=   2.5s\n",
      "[CV 3/5] END criterion=absolute_error, min_samples_split=3, n_estimators=150;, score=-41.291 total time=   2.5s\n",
      "[CV 4/5] END criterion=absolute_error, min_samples_split=3, n_estimators=150;, score=-30.010 total time=   2.5s\n",
      "[CV 5/5] END criterion=absolute_error, min_samples_split=3, n_estimators=150;, score=-30.646 total time=   2.5s\n",
      "[CV 1/5] END criterion=absolute_error, min_samples_split=3, n_estimators=200;, score=-31.159 total time=   3.4s\n",
      "[CV 2/5] END criterion=absolute_error, min_samples_split=3, n_estimators=200;, score=-25.608 total time=   3.4s\n",
      "[CV 3/5] END criterion=absolute_error, min_samples_split=3, n_estimators=200;, score=-40.916 total time=   3.4s\n",
      "[CV 4/5] END criterion=absolute_error, min_samples_split=3, n_estimators=200;, score=-29.707 total time=   3.3s\n",
      "[CV 5/5] END criterion=absolute_error, min_samples_split=3, n_estimators=200;, score=-30.354 total time=   3.4s\n",
      "[CV 1/5] END criterion=absolute_error, min_samples_split=4, n_estimators=100;, score=-31.612 total time=   1.6s\n",
      "[CV 2/5] END criterion=absolute_error, min_samples_split=4, n_estimators=100;, score=-27.613 total time=   1.6s\n",
      "[CV 3/5] END criterion=absolute_error, min_samples_split=4, n_estimators=100;, score=-42.531 total time=   1.6s\n",
      "[CV 4/5] END criterion=absolute_error, min_samples_split=4, n_estimators=100;, score=-32.166 total time=   1.6s\n",
      "[CV 5/5] END criterion=absolute_error, min_samples_split=4, n_estimators=100;, score=-32.601 total time=   1.6s\n",
      "[CV 1/5] END criterion=absolute_error, min_samples_split=4, n_estimators=150;, score=-31.260 total time=   2.4s\n",
      "[CV 2/5] END criterion=absolute_error, min_samples_split=4, n_estimators=150;, score=-26.180 total time=   2.4s\n",
      "[CV 3/5] END criterion=absolute_error, min_samples_split=4, n_estimators=150;, score=-41.727 total time=   2.4s\n",
      "[CV 4/5] END criterion=absolute_error, min_samples_split=4, n_estimators=150;, score=-33.558 total time=   2.4s\n",
      "[CV 5/5] END criterion=absolute_error, min_samples_split=4, n_estimators=150;, score=-31.580 total time=   2.4s\n",
      "[CV 1/5] END criterion=absolute_error, min_samples_split=4, n_estimators=200;, score=-31.642 total time=   3.3s\n",
      "[CV 2/5] END criterion=absolute_error, min_samples_split=4, n_estimators=200;, score=-27.591 total time=   3.2s\n",
      "[CV 3/5] END criterion=absolute_error, min_samples_split=4, n_estimators=200;, score=-41.741 total time=   3.3s\n",
      "[CV 4/5] END criterion=absolute_error, min_samples_split=4, n_estimators=200;, score=-31.358 total time=   3.2s\n",
      "[CV 5/5] END criterion=absolute_error, min_samples_split=4, n_estimators=200;, score=-31.040 total time=   3.4s\n",
      "[CV 1/5] END criterion=absolute_error, min_samples_split=5, n_estimators=100;, score=-32.555 total time=   1.7s\n",
      "[CV 2/5] END criterion=absolute_error, min_samples_split=5, n_estimators=100;, score=-26.227 total time=   1.5s\n",
      "[CV 3/5] END criterion=absolute_error, min_samples_split=5, n_estimators=100;, score=-41.222 total time=   1.5s\n",
      "[CV 4/5] END criterion=absolute_error, min_samples_split=5, n_estimators=100;, score=-33.201 total time=   1.5s\n",
      "[CV 5/5] END criterion=absolute_error, min_samples_split=5, n_estimators=100;, score=-31.896 total time=   1.6s\n",
      "[CV 1/5] END criterion=absolute_error, min_samples_split=5, n_estimators=150;, score=-32.773 total time=   2.4s\n",
      "[CV 2/5] END criterion=absolute_error, min_samples_split=5, n_estimators=150;, score=-28.094 total time=   2.4s\n",
      "[CV 3/5] END criterion=absolute_error, min_samples_split=5, n_estimators=150;, score=-42.717 total time=   2.3s\n",
      "[CV 4/5] END criterion=absolute_error, min_samples_split=5, n_estimators=150;, score=-32.348 total time=   2.3s\n",
      "[CV 5/5] END criterion=absolute_error, min_samples_split=5, n_estimators=150;, score=-30.759 total time=   2.3s\n",
      "[CV 1/5] END criterion=absolute_error, min_samples_split=5, n_estimators=200;, score=-32.939 total time=   3.2s\n",
      "[CV 2/5] END criterion=absolute_error, min_samples_split=5, n_estimators=200;, score=-26.250 total time=   3.1s\n",
      "[CV 3/5] END criterion=absolute_error, min_samples_split=5, n_estimators=200;, score=-43.438 total time=   3.2s\n",
      "[CV 4/5] END criterion=absolute_error, min_samples_split=5, n_estimators=200;, score=-30.629 total time=   3.1s\n",
      "[CV 5/5] END criterion=absolute_error, min_samples_split=5, n_estimators=200;, score=-33.202 total time=   3.1s\n"
     ]
    },
    {
     "data": {
      "text/html": [
       "<style>#sk-container-id-1 {color: black;}#sk-container-id-1 pre{padding: 0;}#sk-container-id-1 div.sk-toggleable {background-color: white;}#sk-container-id-1 label.sk-toggleable__label {cursor: pointer;display: block;width: 100%;margin-bottom: 0;padding: 0.3em;box-sizing: border-box;text-align: center;}#sk-container-id-1 label.sk-toggleable__label-arrow:before {content: \"▸\";float: left;margin-right: 0.25em;color: #696969;}#sk-container-id-1 label.sk-toggleable__label-arrow:hover:before {color: black;}#sk-container-id-1 div.sk-estimator:hover label.sk-toggleable__label-arrow:before {color: black;}#sk-container-id-1 div.sk-toggleable__content {max-height: 0;max-width: 0;overflow: hidden;text-align: left;background-color: #f0f8ff;}#sk-container-id-1 div.sk-toggleable__content pre {margin: 0.2em;color: black;border-radius: 0.25em;background-color: #f0f8ff;}#sk-container-id-1 input.sk-toggleable__control:checked~div.sk-toggleable__content {max-height: 200px;max-width: 100%;overflow: auto;}#sk-container-id-1 input.sk-toggleable__control:checked~label.sk-toggleable__label-arrow:before {content: \"▾\";}#sk-container-id-1 div.sk-estimator input.sk-toggleable__control:checked~label.sk-toggleable__label {background-color: #d4ebff;}#sk-container-id-1 div.sk-label input.sk-toggleable__control:checked~label.sk-toggleable__label {background-color: #d4ebff;}#sk-container-id-1 input.sk-hidden--visually {border: 0;clip: rect(1px 1px 1px 1px);clip: rect(1px, 1px, 1px, 1px);height: 1px;margin: -1px;overflow: hidden;padding: 0;position: absolute;width: 1px;}#sk-container-id-1 div.sk-estimator {font-family: monospace;background-color: #f0f8ff;border: 1px dotted black;border-radius: 0.25em;box-sizing: border-box;margin-bottom: 0.5em;}#sk-container-id-1 div.sk-estimator:hover {background-color: #d4ebff;}#sk-container-id-1 div.sk-parallel-item::after {content: \"\";width: 100%;border-bottom: 1px solid gray;flex-grow: 1;}#sk-container-id-1 div.sk-label:hover label.sk-toggleable__label {background-color: #d4ebff;}#sk-container-id-1 div.sk-serial::before {content: \"\";position: absolute;border-left: 1px solid gray;box-sizing: border-box;top: 0;bottom: 0;left: 50%;z-index: 0;}#sk-container-id-1 div.sk-serial {display: flex;flex-direction: column;align-items: center;background-color: white;padding-right: 0.2em;padding-left: 0.2em;position: relative;}#sk-container-id-1 div.sk-item {position: relative;z-index: 1;}#sk-container-id-1 div.sk-parallel {display: flex;align-items: stretch;justify-content: center;background-color: white;position: relative;}#sk-container-id-1 div.sk-item::before, #sk-container-id-1 div.sk-parallel-item::before {content: \"\";position: absolute;border-left: 1px solid gray;box-sizing: border-box;top: 0;bottom: 0;left: 50%;z-index: -1;}#sk-container-id-1 div.sk-parallel-item {display: flex;flex-direction: column;z-index: 1;position: relative;background-color: white;}#sk-container-id-1 div.sk-parallel-item:first-child::after {align-self: flex-end;width: 50%;}#sk-container-id-1 div.sk-parallel-item:last-child::after {align-self: flex-start;width: 50%;}#sk-container-id-1 div.sk-parallel-item:only-child::after {width: 0;}#sk-container-id-1 div.sk-dashed-wrapped {border: 1px dashed gray;margin: 0 0.4em 0.5em 0.4em;box-sizing: border-box;padding-bottom: 0.4em;background-color: white;}#sk-container-id-1 div.sk-label label {font-family: monospace;font-weight: bold;display: inline-block;line-height: 1.2em;}#sk-container-id-1 div.sk-label-container {text-align: center;}#sk-container-id-1 div.sk-container {/* jupyter's `normalize.less` sets `[hidden] { display: none; }` but bootstrap.min.css set `[hidden] { display: none !important; }` so we also need the `!important` here to be able to override the default hidden behavior on the sphinx rendered scikit-learn.org. See: https://github.com/scikit-learn/scikit-learn/issues/21755 */display: inline-block !important;position: relative;}#sk-container-id-1 div.sk-text-repr-fallback {display: none;}</style><div id=\"sk-container-id-1\" class=\"sk-top-container\"><div class=\"sk-text-repr-fallback\"><pre>GridSearchCV(estimator=RandomForestRegressor(oob_score=True),\n",
       "             param_grid={&#x27;criterion&#x27;: [&#x27;squared_error&#x27;, &#x27;absolute_error&#x27;],\n",
       "                         &#x27;min_samples_split&#x27;: [2, 3, 4, 5],\n",
       "                         &#x27;n_estimators&#x27;: [100, 150, 200]},\n",
       "             scoring=&#x27;neg_mean_squared_error&#x27;, verbose=3)</pre><b>In a Jupyter environment, please rerun this cell to show the HTML representation or trust the notebook. <br />On GitHub, the HTML representation is unable to render, please try loading this page with nbviewer.org.</b></div><div class=\"sk-container\" hidden><div class=\"sk-item sk-dashed-wrapped\"><div class=\"sk-label-container\"><div class=\"sk-label sk-toggleable\"><input class=\"sk-toggleable__control sk-hidden--visually\" id=\"sk-estimator-id-1\" type=\"checkbox\" ><label for=\"sk-estimator-id-1\" class=\"sk-toggleable__label sk-toggleable__label-arrow\">GridSearchCV</label><div class=\"sk-toggleable__content\"><pre>GridSearchCV(estimator=RandomForestRegressor(oob_score=True),\n",
       "             param_grid={&#x27;criterion&#x27;: [&#x27;squared_error&#x27;, &#x27;absolute_error&#x27;],\n",
       "                         &#x27;min_samples_split&#x27;: [2, 3, 4, 5],\n",
       "                         &#x27;n_estimators&#x27;: [100, 150, 200]},\n",
       "             scoring=&#x27;neg_mean_squared_error&#x27;, verbose=3)</pre></div></div></div><div class=\"sk-parallel\"><div class=\"sk-parallel-item\"><div class=\"sk-item\"><div class=\"sk-label-container\"><div class=\"sk-label sk-toggleable\"><input class=\"sk-toggleable__control sk-hidden--visually\" id=\"sk-estimator-id-2\" type=\"checkbox\" ><label for=\"sk-estimator-id-2\" class=\"sk-toggleable__label sk-toggleable__label-arrow\">estimator: RandomForestRegressor</label><div class=\"sk-toggleable__content\"><pre>RandomForestRegressor(oob_score=True)</pre></div></div></div><div class=\"sk-serial\"><div class=\"sk-item\"><div class=\"sk-estimator sk-toggleable\"><input class=\"sk-toggleable__control sk-hidden--visually\" id=\"sk-estimator-id-3\" type=\"checkbox\" ><label for=\"sk-estimator-id-3\" class=\"sk-toggleable__label sk-toggleable__label-arrow\">RandomForestRegressor</label><div class=\"sk-toggleable__content\"><pre>RandomForestRegressor(oob_score=True)</pre></div></div></div></div></div></div></div></div></div></div>"
      ],
      "text/plain": [
       "GridSearchCV(estimator=RandomForestRegressor(oob_score=True),\n",
       "             param_grid={'criterion': ['squared_error', 'absolute_error'],\n",
       "                         'min_samples_split': [2, 3, 4, 5],\n",
       "                         'n_estimators': [100, 150, 200]},\n",
       "             scoring='neg_mean_squared_error', verbose=3)"
      ]
     },
     "execution_count": 32,
     "metadata": {},
     "output_type": "execute_result"
    }
   ],
   "source": [
    "model.fit(X_train_scaled,y_train)"
   ]
  },
  {
   "cell_type": "code",
   "execution_count": 35,
   "metadata": {},
   "outputs": [
    {
     "data": {
      "text/plain": [
       "{'criterion': 'absolute_error', 'min_samples_split': 2, 'n_estimators': 200}"
      ]
     },
     "execution_count": 35,
     "metadata": {},
     "output_type": "execute_result"
    }
   ],
   "source": [
    "model.best_params_"
   ]
  },
  {
   "cell_type": "code",
   "execution_count": 36,
   "metadata": {},
   "outputs": [
    {
     "data": {
      "text/plain": [
       "0.9050955256603573"
      ]
     },
     "execution_count": 36,
     "metadata": {},
     "output_type": "execute_result"
    }
   ],
   "source": [
    "y_pred1=model.predict(X_test_scaled)\n",
    "r2_score(y_test,y_pred1)"
   ]
  },
  {
   "cell_type": "code",
   "execution_count": 37,
   "metadata": {},
   "outputs": [],
   "source": [
    "rfr=RandomForestRegressor(criterion='absolute_error', min_samples_split=2,\n",
    "                      n_estimators=200, oob_score=True)"
   ]
  },
  {
   "cell_type": "code",
   "execution_count": 38,
   "metadata": {},
   "outputs": [
    {
     "data": {
      "text/html": [
       "<style>#sk-container-id-4 {color: black;}#sk-container-id-4 pre{padding: 0;}#sk-container-id-4 div.sk-toggleable {background-color: white;}#sk-container-id-4 label.sk-toggleable__label {cursor: pointer;display: block;width: 100%;margin-bottom: 0;padding: 0.3em;box-sizing: border-box;text-align: center;}#sk-container-id-4 label.sk-toggleable__label-arrow:before {content: \"▸\";float: left;margin-right: 0.25em;color: #696969;}#sk-container-id-4 label.sk-toggleable__label-arrow:hover:before {color: black;}#sk-container-id-4 div.sk-estimator:hover label.sk-toggleable__label-arrow:before {color: black;}#sk-container-id-4 div.sk-toggleable__content {max-height: 0;max-width: 0;overflow: hidden;text-align: left;background-color: #f0f8ff;}#sk-container-id-4 div.sk-toggleable__content pre {margin: 0.2em;color: black;border-radius: 0.25em;background-color: #f0f8ff;}#sk-container-id-4 input.sk-toggleable__control:checked~div.sk-toggleable__content {max-height: 200px;max-width: 100%;overflow: auto;}#sk-container-id-4 input.sk-toggleable__control:checked~label.sk-toggleable__label-arrow:before {content: \"▾\";}#sk-container-id-4 div.sk-estimator input.sk-toggleable__control:checked~label.sk-toggleable__label {background-color: #d4ebff;}#sk-container-id-4 div.sk-label input.sk-toggleable__control:checked~label.sk-toggleable__label {background-color: #d4ebff;}#sk-container-id-4 input.sk-hidden--visually {border: 0;clip: rect(1px 1px 1px 1px);clip: rect(1px, 1px, 1px, 1px);height: 1px;margin: -1px;overflow: hidden;padding: 0;position: absolute;width: 1px;}#sk-container-id-4 div.sk-estimator {font-family: monospace;background-color: #f0f8ff;border: 1px dotted black;border-radius: 0.25em;box-sizing: border-box;margin-bottom: 0.5em;}#sk-container-id-4 div.sk-estimator:hover {background-color: #d4ebff;}#sk-container-id-4 div.sk-parallel-item::after {content: \"\";width: 100%;border-bottom: 1px solid gray;flex-grow: 1;}#sk-container-id-4 div.sk-label:hover label.sk-toggleable__label {background-color: #d4ebff;}#sk-container-id-4 div.sk-serial::before {content: \"\";position: absolute;border-left: 1px solid gray;box-sizing: border-box;top: 0;bottom: 0;left: 50%;z-index: 0;}#sk-container-id-4 div.sk-serial {display: flex;flex-direction: column;align-items: center;background-color: white;padding-right: 0.2em;padding-left: 0.2em;position: relative;}#sk-container-id-4 div.sk-item {position: relative;z-index: 1;}#sk-container-id-4 div.sk-parallel {display: flex;align-items: stretch;justify-content: center;background-color: white;position: relative;}#sk-container-id-4 div.sk-item::before, #sk-container-id-4 div.sk-parallel-item::before {content: \"\";position: absolute;border-left: 1px solid gray;box-sizing: border-box;top: 0;bottom: 0;left: 50%;z-index: -1;}#sk-container-id-4 div.sk-parallel-item {display: flex;flex-direction: column;z-index: 1;position: relative;background-color: white;}#sk-container-id-4 div.sk-parallel-item:first-child::after {align-self: flex-end;width: 50%;}#sk-container-id-4 div.sk-parallel-item:last-child::after {align-self: flex-start;width: 50%;}#sk-container-id-4 div.sk-parallel-item:only-child::after {width: 0;}#sk-container-id-4 div.sk-dashed-wrapped {border: 1px dashed gray;margin: 0 0.4em 0.5em 0.4em;box-sizing: border-box;padding-bottom: 0.4em;background-color: white;}#sk-container-id-4 div.sk-label label {font-family: monospace;font-weight: bold;display: inline-block;line-height: 1.2em;}#sk-container-id-4 div.sk-label-container {text-align: center;}#sk-container-id-4 div.sk-container {/* jupyter's `normalize.less` sets `[hidden] { display: none; }` but bootstrap.min.css set `[hidden] { display: none !important; }` so we also need the `!important` here to be able to override the default hidden behavior on the sphinx rendered scikit-learn.org. See: https://github.com/scikit-learn/scikit-learn/issues/21755 */display: inline-block !important;position: relative;}#sk-container-id-4 div.sk-text-repr-fallback {display: none;}</style><div id=\"sk-container-id-4\" class=\"sk-top-container\"><div class=\"sk-text-repr-fallback\"><pre>RandomForestRegressor(criterion=&#x27;absolute_error&#x27;, n_estimators=200,\n",
       "                      oob_score=True)</pre><b>In a Jupyter environment, please rerun this cell to show the HTML representation or trust the notebook. <br />On GitHub, the HTML representation is unable to render, please try loading this page with nbviewer.org.</b></div><div class=\"sk-container\" hidden><div class=\"sk-item\"><div class=\"sk-estimator sk-toggleable\"><input class=\"sk-toggleable__control sk-hidden--visually\" id=\"sk-estimator-id-6\" type=\"checkbox\" checked><label for=\"sk-estimator-id-6\" class=\"sk-toggleable__label sk-toggleable__label-arrow\">RandomForestRegressor</label><div class=\"sk-toggleable__content\"><pre>RandomForestRegressor(criterion=&#x27;absolute_error&#x27;, n_estimators=200,\n",
       "                      oob_score=True)</pre></div></div></div></div></div>"
      ],
      "text/plain": [
       "RandomForestRegressor(criterion='absolute_error', n_estimators=200,\n",
       "                      oob_score=True)"
      ]
     },
     "execution_count": 38,
     "metadata": {},
     "output_type": "execute_result"
    }
   ],
   "source": [
    "rfr.fit(X_train_scaled,y_train)"
   ]
  },
  {
   "cell_type": "code",
   "execution_count": 40,
   "metadata": {},
   "outputs": [
    {
     "data": {
      "text/plain": [
       "0.9060654408679895"
      ]
     },
     "execution_count": 40,
     "metadata": {},
     "output_type": "execute_result"
    }
   ],
   "source": [
    "y_pred2=rfr.predict(X_test_scaled)\n",
    "r2_score(y_test,y_pred2)"
   ]
  },
  {
   "cell_type": "markdown",
   "metadata": {},
   "source": [
    "## Result\n",
    "\n"
   ]
  }
 ],
 "metadata": {
  "kernelspec": {
   "display_name": "Python 3",
   "language": "python",
   "name": "python3"
  },
  "language_info": {
   "codemirror_mode": {
    "name": "ipython",
    "version": 3
   },
   "file_extension": ".py",
   "mimetype": "text/x-python",
   "name": "python",
   "nbconvert_exporter": "python",
   "pygments_lexer": "ipython3",
   "version": "3.8.0"
  }
 },
 "nbformat": 4,
 "nbformat_minor": 2
}
